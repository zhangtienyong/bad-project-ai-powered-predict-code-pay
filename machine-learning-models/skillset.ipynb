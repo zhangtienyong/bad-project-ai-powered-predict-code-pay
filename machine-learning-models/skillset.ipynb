{
 "cells": [
  {
   "cell_type": "code",
   "execution_count": 1,
   "id": "78e66141",
   "metadata": {},
   "outputs": [],
   "source": [
    "import pandas as pd"
   ]
  },
  {
   "cell_type": "code",
   "execution_count": 2,
   "id": "00beb8e0",
   "metadata": {},
   "outputs": [],
   "source": [
    "df = pd.read_csv(\"dataset/survey_results_public.csv\")"
   ]
  },
  {
   "cell_type": "code",
   "execution_count": 3,
   "id": "a83931f8",
   "metadata": {},
   "outputs": [
    {
     "data": {
      "text/html": [
       "<div>\n",
       "<style scoped>\n",
       "    .dataframe tbody tr th:only-of-type {\n",
       "        vertical-align: middle;\n",
       "    }\n",
       "\n",
       "    .dataframe tbody tr th {\n",
       "        vertical-align: top;\n",
       "    }\n",
       "\n",
       "    .dataframe thead th {\n",
       "        text-align: right;\n",
       "    }\n",
       "</style>\n",
       "<table border=\"1\" class=\"dataframe\">\n",
       "  <thead>\n",
       "    <tr style=\"text-align: right;\">\n",
       "      <th></th>\n",
       "      <th>ResponseId</th>\n",
       "      <th>Q120</th>\n",
       "      <th>MainBranch</th>\n",
       "      <th>Age</th>\n",
       "      <th>Employment</th>\n",
       "      <th>RemoteWork</th>\n",
       "      <th>CodingActivities</th>\n",
       "      <th>EdLevel</th>\n",
       "      <th>LearnCode</th>\n",
       "      <th>LearnCodeOnline</th>\n",
       "      <th>...</th>\n",
       "      <th>Frequency_1</th>\n",
       "      <th>Frequency_2</th>\n",
       "      <th>Frequency_3</th>\n",
       "      <th>TimeSearching</th>\n",
       "      <th>TimeAnswering</th>\n",
       "      <th>ProfessionalTech</th>\n",
       "      <th>Industry</th>\n",
       "      <th>SurveyLength</th>\n",
       "      <th>SurveyEase</th>\n",
       "      <th>ConvertedCompYearly</th>\n",
       "    </tr>\n",
       "  </thead>\n",
       "  <tbody>\n",
       "    <tr>\n",
       "      <th>0</th>\n",
       "      <td>1</td>\n",
       "      <td>I agree</td>\n",
       "      <td>None of these</td>\n",
       "      <td>18-24 years old</td>\n",
       "      <td>NaN</td>\n",
       "      <td>NaN</td>\n",
       "      <td>NaN</td>\n",
       "      <td>NaN</td>\n",
       "      <td>NaN</td>\n",
       "      <td>NaN</td>\n",
       "      <td>...</td>\n",
       "      <td>NaN</td>\n",
       "      <td>NaN</td>\n",
       "      <td>NaN</td>\n",
       "      <td>NaN</td>\n",
       "      <td>NaN</td>\n",
       "      <td>NaN</td>\n",
       "      <td>NaN</td>\n",
       "      <td>NaN</td>\n",
       "      <td>NaN</td>\n",
       "      <td>NaN</td>\n",
       "    </tr>\n",
       "    <tr>\n",
       "      <th>1</th>\n",
       "      <td>2</td>\n",
       "      <td>I agree</td>\n",
       "      <td>I am a developer by profession</td>\n",
       "      <td>25-34 years old</td>\n",
       "      <td>Employed, full-time</td>\n",
       "      <td>Remote</td>\n",
       "      <td>Hobby;Contribute to open-source projects;Boots...</td>\n",
       "      <td>Bachelor’s degree (B.A., B.S., B.Eng., etc.)</td>\n",
       "      <td>Books / Physical media;Colleague;Friend or fam...</td>\n",
       "      <td>Formal documentation provided by the owner of ...</td>\n",
       "      <td>...</td>\n",
       "      <td>1-2 times a week</td>\n",
       "      <td>10+ times a week</td>\n",
       "      <td>Never</td>\n",
       "      <td>15-30 minutes a day</td>\n",
       "      <td>15-30 minutes a day</td>\n",
       "      <td>DevOps function;Microservices;Automated testin...</td>\n",
       "      <td>Information Services, IT, Software Development...</td>\n",
       "      <td>Appropriate in length</td>\n",
       "      <td>Easy</td>\n",
       "      <td>285000.0</td>\n",
       "    </tr>\n",
       "    <tr>\n",
       "      <th>2</th>\n",
       "      <td>3</td>\n",
       "      <td>I agree</td>\n",
       "      <td>I am a developer by profession</td>\n",
       "      <td>45-54 years old</td>\n",
       "      <td>Employed, full-time</td>\n",
       "      <td>Hybrid (some remote, some in-person)</td>\n",
       "      <td>Hobby;Professional development or self-paced l...</td>\n",
       "      <td>Bachelor’s degree (B.A., B.S., B.Eng., etc.)</td>\n",
       "      <td>Books / Physical media;Colleague;On the job tr...</td>\n",
       "      <td>Formal documentation provided by the owner of ...</td>\n",
       "      <td>...</td>\n",
       "      <td>6-10 times a week</td>\n",
       "      <td>6-10 times a week</td>\n",
       "      <td>3-5 times a week</td>\n",
       "      <td>30-60 minutes a day</td>\n",
       "      <td>30-60 minutes a day</td>\n",
       "      <td>DevOps function;Microservices;Automated testin...</td>\n",
       "      <td>Information Services, IT, Software Development...</td>\n",
       "      <td>Appropriate in length</td>\n",
       "      <td>Easy</td>\n",
       "      <td>250000.0</td>\n",
       "    </tr>\n",
       "    <tr>\n",
       "      <th>3</th>\n",
       "      <td>4</td>\n",
       "      <td>I agree</td>\n",
       "      <td>I am a developer by profession</td>\n",
       "      <td>25-34 years old</td>\n",
       "      <td>Employed, full-time</td>\n",
       "      <td>Hybrid (some remote, some in-person)</td>\n",
       "      <td>Hobby</td>\n",
       "      <td>Bachelor’s degree (B.A., B.S., B.Eng., etc.)</td>\n",
       "      <td>Colleague;Friend or family member;Other online...</td>\n",
       "      <td>Formal documentation provided by the owner of ...</td>\n",
       "      <td>...</td>\n",
       "      <td>1-2 times a week</td>\n",
       "      <td>10+ times a week</td>\n",
       "      <td>1-2 times a week</td>\n",
       "      <td>15-30 minutes a day</td>\n",
       "      <td>30-60 minutes a day</td>\n",
       "      <td>Automated testing;Continuous integration (CI) ...</td>\n",
       "      <td>NaN</td>\n",
       "      <td>Appropriate in length</td>\n",
       "      <td>Easy</td>\n",
       "      <td>156000.0</td>\n",
       "    </tr>\n",
       "    <tr>\n",
       "      <th>4</th>\n",
       "      <td>5</td>\n",
       "      <td>I agree</td>\n",
       "      <td>I am a developer by profession</td>\n",
       "      <td>25-34 years old</td>\n",
       "      <td>Employed, full-time;Independent contractor, fr...</td>\n",
       "      <td>Remote</td>\n",
       "      <td>Hobby;Contribute to open-source projects;Profe...</td>\n",
       "      <td>Bachelor’s degree (B.A., B.S., B.Eng., etc.)</td>\n",
       "      <td>Books / Physical media;Online Courses or Certi...</td>\n",
       "      <td>Formal documentation provided by the owner of ...</td>\n",
       "      <td>...</td>\n",
       "      <td>1-2 times a week</td>\n",
       "      <td>1-2 times a week</td>\n",
       "      <td>3-5 times a week</td>\n",
       "      <td>60-120 minutes a day</td>\n",
       "      <td>30-60 minutes a day</td>\n",
       "      <td>Microservices;Automated testing;Observability ...</td>\n",
       "      <td>Other</td>\n",
       "      <td>Appropriate in length</td>\n",
       "      <td>Neither easy nor difficult</td>\n",
       "      <td>23456.0</td>\n",
       "    </tr>\n",
       "  </tbody>\n",
       "</table>\n",
       "<p>5 rows × 84 columns</p>\n",
       "</div>"
      ],
      "text/plain": [
       "   ResponseId     Q120                      MainBranch              Age  \\\n",
       "0           1  I agree                   None of these  18-24 years old   \n",
       "1           2  I agree  I am a developer by profession  25-34 years old   \n",
       "2           3  I agree  I am a developer by profession  45-54 years old   \n",
       "3           4  I agree  I am a developer by profession  25-34 years old   \n",
       "4           5  I agree  I am a developer by profession  25-34 years old   \n",
       "\n",
       "                                          Employment  \\\n",
       "0                                                NaN   \n",
       "1                                Employed, full-time   \n",
       "2                                Employed, full-time   \n",
       "3                                Employed, full-time   \n",
       "4  Employed, full-time;Independent contractor, fr...   \n",
       "\n",
       "                             RemoteWork  \\\n",
       "0                                   NaN   \n",
       "1                                Remote   \n",
       "2  Hybrid (some remote, some in-person)   \n",
       "3  Hybrid (some remote, some in-person)   \n",
       "4                                Remote   \n",
       "\n",
       "                                    CodingActivities  \\\n",
       "0                                                NaN   \n",
       "1  Hobby;Contribute to open-source projects;Boots...   \n",
       "2  Hobby;Professional development or self-paced l...   \n",
       "3                                              Hobby   \n",
       "4  Hobby;Contribute to open-source projects;Profe...   \n",
       "\n",
       "                                        EdLevel  \\\n",
       "0                                           NaN   \n",
       "1  Bachelor’s degree (B.A., B.S., B.Eng., etc.)   \n",
       "2  Bachelor’s degree (B.A., B.S., B.Eng., etc.)   \n",
       "3  Bachelor’s degree (B.A., B.S., B.Eng., etc.)   \n",
       "4  Bachelor’s degree (B.A., B.S., B.Eng., etc.)   \n",
       "\n",
       "                                           LearnCode  \\\n",
       "0                                                NaN   \n",
       "1  Books / Physical media;Colleague;Friend or fam...   \n",
       "2  Books / Physical media;Colleague;On the job tr...   \n",
       "3  Colleague;Friend or family member;Other online...   \n",
       "4  Books / Physical media;Online Courses or Certi...   \n",
       "\n",
       "                                     LearnCodeOnline  ...        Frequency_1  \\\n",
       "0                                                NaN  ...                NaN   \n",
       "1  Formal documentation provided by the owner of ...  ...   1-2 times a week   \n",
       "2  Formal documentation provided by the owner of ...  ...  6-10 times a week   \n",
       "3  Formal documentation provided by the owner of ...  ...   1-2 times a week   \n",
       "4  Formal documentation provided by the owner of ...  ...   1-2 times a week   \n",
       "\n",
       "         Frequency_2       Frequency_3         TimeSearching  \\\n",
       "0                NaN               NaN                   NaN   \n",
       "1   10+ times a week             Never   15-30 minutes a day   \n",
       "2  6-10 times a week  3-5 times a week   30-60 minutes a day   \n",
       "3   10+ times a week  1-2 times a week   15-30 minutes a day   \n",
       "4   1-2 times a week  3-5 times a week  60-120 minutes a day   \n",
       "\n",
       "         TimeAnswering                                   ProfessionalTech  \\\n",
       "0                  NaN                                                NaN   \n",
       "1  15-30 minutes a day  DevOps function;Microservices;Automated testin...   \n",
       "2  30-60 minutes a day  DevOps function;Microservices;Automated testin...   \n",
       "3  30-60 minutes a day  Automated testing;Continuous integration (CI) ...   \n",
       "4  30-60 minutes a day  Microservices;Automated testing;Observability ...   \n",
       "\n",
       "                                            Industry           SurveyLength  \\\n",
       "0                                                NaN                    NaN   \n",
       "1  Information Services, IT, Software Development...  Appropriate in length   \n",
       "2  Information Services, IT, Software Development...  Appropriate in length   \n",
       "3                                                NaN  Appropriate in length   \n",
       "4                                              Other  Appropriate in length   \n",
       "\n",
       "                   SurveyEase ConvertedCompYearly  \n",
       "0                         NaN                 NaN  \n",
       "1                        Easy            285000.0  \n",
       "2                        Easy            250000.0  \n",
       "3                        Easy            156000.0  \n",
       "4  Neither easy nor difficult             23456.0  \n",
       "\n",
       "[5 rows x 84 columns]"
      ]
     },
     "execution_count": 3,
     "metadata": {},
     "output_type": "execute_result"
    }
   ],
   "source": [
    "df.head()"
   ]
  },
  {
   "cell_type": "code",
   "execution_count": 4,
   "id": "918f6956",
   "metadata": {},
   "outputs": [
    {
     "data": {
      "text/plain": [
       "Index(['ResponseId', 'Q120', 'MainBranch', 'Age', 'Employment', 'RemoteWork',\n",
       "       'CodingActivities', 'EdLevel', 'LearnCode', 'LearnCodeOnline',\n",
       "       'LearnCodeCoursesCert', 'YearsCode', 'YearsCodePro', 'DevType',\n",
       "       'OrgSize', 'PurchaseInfluence', 'TechList', 'BuyNewTool', 'Country',\n",
       "       'Currency', 'CompTotal', 'LanguageHaveWorkedWith',\n",
       "       'LanguageWantToWorkWith', 'DatabaseHaveWorkedWith',\n",
       "       'DatabaseWantToWorkWith', 'PlatformHaveWorkedWith',\n",
       "       'PlatformWantToWorkWith', 'WebframeHaveWorkedWith',\n",
       "       'WebframeWantToWorkWith', 'MiscTechHaveWorkedWith',\n",
       "       'MiscTechWantToWorkWith', 'ToolsTechHaveWorkedWith',\n",
       "       'ToolsTechWantToWorkWith', 'NEWCollabToolsHaveWorkedWith',\n",
       "       'NEWCollabToolsWantToWorkWith', 'OpSysPersonal use',\n",
       "       'OpSysProfessional use', 'OfficeStackAsyncHaveWorkedWith',\n",
       "       'OfficeStackAsyncWantToWorkWith', 'OfficeStackSyncHaveWorkedWith',\n",
       "       'OfficeStackSyncWantToWorkWith', 'AISearchHaveWorkedWith',\n",
       "       'AISearchWantToWorkWith', 'AIDevHaveWorkedWith', 'AIDevWantToWorkWith',\n",
       "       'NEWSOSites', 'SOVisitFreq', 'SOAccount', 'SOPartFreq', 'SOComm',\n",
       "       'SOAI', 'AISelect', 'AISent', 'AIAcc', 'AIBen',\n",
       "       'AIToolInterested in Using', 'AIToolCurrently Using',\n",
       "       'AIToolNot interested in Using', 'AINextVery different',\n",
       "       'AINextNeither different nor similar', 'AINextSomewhat similar',\n",
       "       'AINextVery similar', 'AINextSomewhat different', 'TBranch', 'ICorPM',\n",
       "       'WorkExp', 'Knowledge_1', 'Knowledge_2', 'Knowledge_3', 'Knowledge_4',\n",
       "       'Knowledge_5', 'Knowledge_6', 'Knowledge_7', 'Knowledge_8',\n",
       "       'Frequency_1', 'Frequency_2', 'Frequency_3', 'TimeSearching',\n",
       "       'TimeAnswering', 'ProfessionalTech', 'Industry', 'SurveyLength',\n",
       "       'SurveyEase', 'ConvertedCompYearly'],\n",
       "      dtype='object')"
      ]
     },
     "execution_count": 4,
     "metadata": {},
     "output_type": "execute_result"
    }
   ],
   "source": [
    "df.columns"
   ]
  },
  {
   "cell_type": "markdown",
   "id": "dec497ab",
   "metadata": {},
   "source": [
    "### Retrieve the data from the LanguageHaveWorkedWith column"
   ]
  },
  {
   "cell_type": "code",
   "execution_count": 5,
   "id": "9d9abff6",
   "metadata": {},
   "outputs": [
    {
     "data": {
      "text/plain": [
       "0                                                      NaN\n",
       "1                               HTML/CSS;JavaScript;Python\n",
       "2                               Bash/Shell (all shells);Go\n",
       "3        Bash/Shell (all shells);HTML/CSS;JavaScript;PH...\n",
       "4                           HTML/CSS;JavaScript;TypeScript\n",
       "                               ...                        \n",
       "89179              HTML/CSS;Java;JavaScript;SQL;TypeScript\n",
       "89180                                 Dart;Java;Python;SQL\n",
       "89181    Assembly;Bash/Shell (all shells);C;C#;Python;R...\n",
       "89182    Bash/Shell (all shells);C#;HTML/CSS;Java;JavaS...\n",
       "89183                      C#;Go;JavaScript;SQL;TypeScript\n",
       "Name: LanguageHaveWorkedWith, Length: 89184, dtype: object"
      ]
     },
     "execution_count": 5,
     "metadata": {},
     "output_type": "execute_result"
    }
   ],
   "source": [
    "languages_worked_with = df['LanguageHaveWorkedWith']\n",
    "languages_worked_with"
   ]
  },
  {
   "cell_type": "code",
   "execution_count": 6,
   "id": "b469953d",
   "metadata": {},
   "outputs": [
    {
     "name": "stdout",
     "output_type": "stream",
     "text": [
      "1                               HTML/CSS;JavaScript;Python\n",
      "2                               Bash/Shell (all shells);Go\n",
      "3        Bash/Shell (all shells);HTML/CSS;JavaScript;PH...\n",
      "4                           HTML/CSS;JavaScript;TypeScript\n",
      "5        Bash/Shell (all shells);HTML/CSS;JavaScript;Ru...\n",
      "                               ...                        \n",
      "89179              HTML/CSS;Java;JavaScript;SQL;TypeScript\n",
      "89180                                 Dart;Java;Python;SQL\n",
      "89181    Assembly;Bash/Shell (all shells);C;C#;Python;R...\n",
      "89182    Bash/Shell (all shells);C#;HTML/CSS;Java;JavaS...\n",
      "89183                      C#;Go;JavaScript;SQL;TypeScript\n",
      "Name: LanguageHaveWorkedWith, Length: 87140, dtype: object\n"
     ]
    }
   ],
   "source": [
    "# Drop rows with NaN values in 'LanguageHaveWorkedWith' column\n",
    "cleaned_languages = df['LanguageHaveWorkedWith'].dropna()\n",
    "print(cleaned_languages)"
   ]
  },
  {
   "cell_type": "code",
   "execution_count": 7,
   "id": "8f82f46e",
   "metadata": {},
   "outputs": [
    {
     "data": {
      "text/plain": [
       "1                       HTML/CSS\n",
       "1                     JavaScript\n",
       "1                         Python\n",
       "2        Bash/Shell (all shells)\n",
       "2                             Go\n",
       "                  ...           \n",
       "89183                         C#\n",
       "89183                         Go\n",
       "89183                 JavaScript\n",
       "89183                        SQL\n",
       "89183                 TypeScript\n",
       "Name: LanguageHaveWorkedWith, Length: 466157, dtype: object"
      ]
     },
     "execution_count": 7,
     "metadata": {},
     "output_type": "execute_result"
    }
   ],
   "source": [
    "# Split the langiages into individual skills\n",
    "skillset_language_list = cleaned_languages.str.split(';').explode()\n",
    "skillset_language_list"
   ]
  },
  {
   "cell_type": "code",
   "execution_count": 8,
   "id": "550937c4",
   "metadata": {},
   "outputs": [
    {
     "name": "stdout",
     "output_type": "stream",
     "text": [
      "                   name     types\n",
      "0              HTML CSS  language\n",
      "1            JavaScript  language\n",
      "2                Python  language\n",
      "3            Bash Shell  language\n",
      "4                    Go  language\n",
      "5                   PHP  language\n",
      "6                  Ruby  language\n",
      "7                   SQL  language\n",
      "8            TypeScript  language\n",
      "9                   Ada  language\n",
      "10              Clojure  language\n",
      "11               Elixir  language\n",
      "12                 Java  language\n",
      "13                 Lisp  language\n",
      "14                OCaml  language\n",
      "15                 Raku  language\n",
      "16                Scala  language\n",
      "17                Swift  language\n",
      "18                  Zig  language\n",
      "19                 Rust  language\n",
      "20                   C#  language\n",
      "21           PowerShell  language\n",
      "22                  C++  language\n",
      "23               Kotlin  language\n",
      "24             Solidity  language\n",
      "25                    C  language\n",
      "26                 Perl  language\n",
      "27                 Dart  language\n",
      "28              Haskell  language\n",
      "29             Assembly  language\n",
      "30               Delphi  language\n",
      "31                    R  language\n",
      "32                  Lua  language\n",
      "33               MATLAB  language\n",
      "34                  VBA  language\n",
      "35  Visual Basic (.Net)  language\n",
      "36                Julia  language\n",
      "37                   F#  language\n",
      "38               Groovy  language\n",
      "39                  APL  language\n",
      "40          Objective-C  language\n",
      "41             GDScript  language\n",
      "42              Crystal  language\n",
      "43                Cobol  language\n",
      "44              Fortran  language\n",
      "45               Prolog  language\n",
      "46               Erlang  language\n",
      "47                 Apex  language\n",
      "48                  SAS  language\n",
      "49                  Nim  language\n",
      "50                 Flow  language\n"
     ]
    }
   ],
   "source": [
    "# Use unique() to get unique values\n",
    "\n",
    "skillset_language = pd.DataFrame({\n",
    "    'name': skillset_language_list.unique(),\n",
    "    'types': 'language'\n",
    "})\n",
    "\n",
    "# Replace values in the 'name' column\n",
    "skillset_language['name'] = skillset_language['name'].replace({\n",
    "    'HTML/CSS': 'HTML CSS',\n",
    "    'Bash/Shell (all shells)': 'Bash Shell'\n",
    "})\n",
    "\n",
    "# Display the updated skillset_language DataFrame with unique values\n",
    "print(skillset_language)"
   ]
  },
  {
   "cell_type": "code",
   "execution_count": 9,
   "id": "eea161f0",
   "metadata": {},
   "outputs": [],
   "source": [
    "import os\n",
    "import json\n",
    "\n",
    "output_path = '/dataset/json'\n",
    "output_file = 'skillset_language.json'\n",
    "\n",
    "# Use the current working directory as the base path\n",
    "base_path = os.getcwd()\n",
    "\n",
    "# Specify the relative path within the current working directory\n",
    "output_path = os.path.join(base_path, 'dataset/json')\n",
    "\n",
    "# Create the output directory if it doesn't exist\n",
    "os.makedirs(output_path, exist_ok=True)\n",
    "\n",
    "# Create the output directory if it doesn't exist\n",
    "os.makedirs(output_path, exist_ok=True)\n",
    "\n",
    "# Save the DataFrame to a JSON file with the desired structure\n",
    "skillset_json = {\n",
    "    \"skillset_language\": skillset_language.to_dict(orient='records')\n",
    "}\n",
    "\n",
    "# Save to file\n",
    "with open(os.path.join(output_path, output_file), 'w') as json_file:\n",
    "    json.dump(skillset_json, json_file, indent=2)"
   ]
  },
  {
   "cell_type": "code",
   "execution_count": 10,
   "id": "9c87bff8",
   "metadata": {},
   "outputs": [
    {
     "data": {
      "text/plain": [
       "0                                                      NaN\n",
       "1                                                 Supabase\n",
       "2                                                      NaN\n",
       "3                                         PostgreSQL;Redis\n",
       "4                BigQuery;Elasticsearch;MongoDB;PostgreSQL\n",
       "                               ...                        \n",
       "89179                      MongoDB;MySQL;PostgreSQL;SQLite\n",
       "89180                                           PostgreSQL\n",
       "89181                                               SQLite\n",
       "89182    MariaDB;Microsoft SQL Server;MongoDB;MySQL;Red...\n",
       "89183                    Microsoft SQL Server;Redis;SQLite\n",
       "Name: DatabaseHaveWorkedWith, Length: 89184, dtype: object"
      ]
     },
     "execution_count": 10,
     "metadata": {},
     "output_type": "execute_result"
    }
   ],
   "source": [
    "databas_worked_with = df['DatabaseHaveWorkedWith']\n",
    "databas_worked_with"
   ]
  },
  {
   "cell_type": "code",
   "execution_count": 11,
   "id": "8c6a9e76",
   "metadata": {},
   "outputs": [
    {
     "name": "stdout",
     "output_type": "stream",
     "text": [
      "1                                                 Supabase\n",
      "3                                         PostgreSQL;Redis\n",
      "4                BigQuery;Elasticsearch;MongoDB;PostgreSQL\n",
      "5                BigQuery;Cloud Firestore;PostgreSQL;Redis\n",
      "6        MariaDB;Microsoft SQL Server;MySQL;PostgreSQL;...\n",
      "                               ...                        \n",
      "89179                      MongoDB;MySQL;PostgreSQL;SQLite\n",
      "89180                                           PostgreSQL\n",
      "89181                                               SQLite\n",
      "89182    MariaDB;Microsoft SQL Server;MongoDB;MySQL;Red...\n",
      "89183                    Microsoft SQL Server;Redis;SQLite\n",
      "Name: DatabaseHaveWorkedWith, Length: 73435, dtype: object\n"
     ]
    }
   ],
   "source": [
    "# Drop rows with NaN values in 'DatabaseHaveWorkedWith' column\n",
    "cleaned_database = df['DatabaseHaveWorkedWith'].dropna()\n",
    "print(cleaned_database)"
   ]
  },
  {
   "cell_type": "code",
   "execution_count": 12,
   "id": "0beeecec",
   "metadata": {},
   "outputs": [
    {
     "data": {
      "text/plain": [
       "1                    Supabase\n",
       "3                  PostgreSQL\n",
       "3                       Redis\n",
       "4                    BigQuery\n",
       "4               Elasticsearch\n",
       "                 ...         \n",
       "89182                   Redis\n",
       "89182                  SQLite\n",
       "89183    Microsoft SQL Server\n",
       "89183                   Redis\n",
       "89183                  SQLite\n",
       "Name: DatabaseHaveWorkedWith, Length: 222246, dtype: object"
      ]
     },
     "execution_count": 12,
     "metadata": {},
     "output_type": "execute_result"
    }
   ],
   "source": [
    "# Split the databases into individual skills\n",
    "skillset_database_list = cleaned_database.str.split(';').explode()\n",
    "skillset_database_list"
   ]
  },
  {
   "cell_type": "code",
   "execution_count": 13,
   "id": "0e271170",
   "metadata": {},
   "outputs": [
    {
     "name": "stdout",
     "output_type": "stream",
     "text": [
      "                          name     types\n",
      "0                     Supabase  database\n",
      "1                   PostgreSQL  database\n",
      "2                        Redis  database\n",
      "3                     BigQuery  database\n",
      "4                Elasticsearch  database\n",
      "5                      MongoDB  database\n",
      "6              Cloud Firestore  database\n",
      "7                      MariaDB  database\n",
      "8         Microsoft SQL Server  database\n",
      "9                        MySQL  database\n",
      "10                      SQLite  database\n",
      "11                    Dynamodb  database\n",
      "12                   Cosmos DB  database\n",
      "13                   Cassandra  database\n",
      "14                          H2  database\n",
      "15                      Oracle  database\n",
      "16                     Datomic  database\n",
      "17                    InfluxDB  database\n",
      "18  Firebase Realtime Database  database\n",
      "19            Microsoft Access  database\n",
      "20                    Firebird  database\n",
      "21                     IBM DB2  database\n",
      "22                        Solr  database\n",
      "23                 Cockroachdb  database\n",
      "24                   Snowflake  database\n",
      "25                    Couch DB  database\n",
      "26                     RavenDB  database\n",
      "27                       Neo4J  database\n",
      "28                  Clickhouse  database\n",
      "29                      DuckDB  database\n",
      "30                        TiDB  database\n",
      "31                   Couchbase  database\n"
     ]
    }
   ],
   "source": [
    "# Use unique() to get unique values\n",
    "\n",
    "skillset_database = pd.DataFrame({\n",
    "    'name': skillset_database_list.unique(),\n",
    "    'types': 'database'\n",
    "})\n",
    "\n",
    "# Display the updated skillset_database DataFrame with unique values\n",
    "print(skillset_database)"
   ]
  },
  {
   "cell_type": "code",
   "execution_count": 14,
   "id": "e4808cf7",
   "metadata": {},
   "outputs": [],
   "source": [
    "output_path = '/dataset/json'\n",
    "output_file = 'skillset_database.json'\n",
    "\n",
    "# Use the current working directory as the base path\n",
    "base_path = os.getcwd()\n",
    "\n",
    "# Specify the relative path within the current working directory\n",
    "output_path = os.path.join(base_path, 'dataset/json')\n",
    "\n",
    "# Create the output directory if it doesn't exist\n",
    "os.makedirs(output_path, exist_ok=True)\n",
    "\n",
    "# Create the output directory if it doesn't exist\n",
    "os.makedirs(output_path, exist_ok=True)\n",
    "\n",
    "# Save the DataFrame to a JSON file with the desired structure\n",
    "skillset_json = {\n",
    "    \"skillset_database\": skillset_database.to_dict(orient='records')\n",
    "}\n",
    "\n",
    "# Save to file\n",
    "with open(os.path.join(output_path, output_file), 'w') as json_file:\n",
    "    json.dump(skillset_json, json_file, indent=2)"
   ]
  },
  {
   "cell_type": "code",
   "execution_count": 15,
   "id": "f75305c6",
   "metadata": {},
   "outputs": [
    {
     "data": {
      "text/plain": [
       "0                                                      NaN\n",
       "1                               Next.js;React;Remix;Vue.js\n",
       "2                                                      NaN\n",
       "3             Node.js;React;Ruby on Rails;Vue.js;WordPress\n",
       "4              Express;Gatsby;NestJS;Next.js;Node.js;React\n",
       "                               ...                        \n",
       "89179    Angular;AngularJS;Express;jQuery;Node.js;Nuxt....\n",
       "89180                                          Spring Boot\n",
       "89181                                                  NaN\n",
       "89182              Express;Next.js;Node.js;React;WordPress\n",
       "89183          Angular;ASP.NET;ASP.NET CORE;Blazor;Node.js\n",
       "Name: WebframeHaveWorkedWith, Length: 89184, dtype: object"
      ]
     },
     "execution_count": 15,
     "metadata": {},
     "output_type": "execute_result"
    }
   ],
   "source": [
    "web_framework_worked_with = df['WebframeHaveWorkedWith']\n",
    "web_framework_worked_with"
   ]
  },
  {
   "cell_type": "code",
   "execution_count": 16,
   "id": "44448993",
   "metadata": {
    "scrolled": true
   },
   "outputs": [
    {
     "name": "stdout",
     "output_type": "stream",
     "text": [
      "1                               Next.js;React;Remix;Vue.js\n",
      "3             Node.js;React;Ruby on Rails;Vue.js;WordPress\n",
      "4              Express;Gatsby;NestJS;Next.js;Node.js;React\n",
      "5                           Angular;Express;NestJS;Node.js\n",
      "6        AngularJS;jQuery;Node.js;Phoenix;Ruby on Rails...\n",
      "                               ...                        \n",
      "89178                          Express;Node.js;Spring Boot\n",
      "89179    Angular;AngularJS;Express;jQuery;Node.js;Nuxt....\n",
      "89180                                          Spring Boot\n",
      "89182              Express;Next.js;Node.js;React;WordPress\n",
      "89183          Angular;ASP.NET;ASP.NET CORE;Blazor;Node.js\n",
      "Name: WebframeHaveWorkedWith, Length: 66938, dtype: object\n"
     ]
    }
   ],
   "source": [
    "# Drop rows with NaN values in 'WebframeHaveWorkedWith' column\n",
    "cleaned_web_framework = df['WebframeHaveWorkedWith'].dropna()\n",
    "print(cleaned_web_framework)"
   ]
  },
  {
   "cell_type": "code",
   "execution_count": 17,
   "id": "a2e488ca",
   "metadata": {},
   "outputs": [
    {
     "data": {
      "text/plain": [
       "1             Next.js\n",
       "1               React\n",
       "1               Remix\n",
       "1              Vue.js\n",
       "3             Node.js\n",
       "             ...     \n",
       "89183         Angular\n",
       "89183         ASP.NET\n",
       "89183    ASP.NET CORE\n",
       "89183          Blazor\n",
       "89183         Node.js\n",
       "Name: WebframeHaveWorkedWith, Length: 231456, dtype: object"
      ]
     },
     "execution_count": 17,
     "metadata": {},
     "output_type": "execute_result"
    }
   ],
   "source": [
    "# Split the webframework into individual skills\n",
    "skills_list_web_framework = cleaned_web_framework.str.split(';').explode()\n",
    "skills_list_web_framework"
   ]
  },
  {
   "cell_type": "code",
   "execution_count": 18,
   "id": "cb78b4c3",
   "metadata": {},
   "outputs": [
    {
     "name": "stdout",
     "output_type": "stream",
     "text": [
      "              name         types\n",
      "0          Next.js  webframework\n",
      "1            React  webframework\n",
      "2            Remix  webframework\n",
      "3           Vue.js  webframework\n",
      "4          Node.js  webframework\n",
      "5    Ruby on Rails  webframework\n",
      "6        WordPress  webframework\n",
      "7          Express  webframework\n",
      "8           Gatsby  webframework\n",
      "9           NestJS  webframework\n",
      "10         Angular  webframework\n",
      "11       AngularJS  webframework\n",
      "12          jQuery  webframework\n",
      "13         Phoenix  webframework\n",
      "14        Solid.js  webframework\n",
      "15          Svelte  webframework\n",
      "16    ASP.NET CORE  webframework\n",
      "17           Flask  webframework\n",
      "18             Elm  webframework\n",
      "19         Nuxt.js  webframework\n",
      "20         Fastify  webframework\n",
      "21     Spring Boot  webframework\n",
      "22         Laravel  webframework\n",
      "23         FastAPI  webframework\n",
      "24         Symfony  webframework\n",
      "25          Django  webframework\n",
      "26            Deno  webframework\n",
      "27         ASP.NET  webframework\n",
      "28          Blazor  webframework\n",
      "29     CodeIgniter  webframework\n",
      "30          Drupal  webframework\n",
      "31            Qwik  webframework\n",
      "32  Play Framework  webframework\n",
      "33             Lit  webframework\n"
     ]
    }
   ],
   "source": [
    "# Use unique() to get unique values\n",
    "\n",
    "skillset_web_framework = pd.DataFrame({\n",
    "    'name': skills_list_web_framework.unique(),\n",
    "    'types': 'webframework'\n",
    "})\n",
    "\n",
    "# Display the updated skillset_web_framework DataFrame with unique values\n",
    "print(skillset_web_framework)"
   ]
  },
  {
   "cell_type": "code",
   "execution_count": 19,
   "id": "7689d467",
   "metadata": {},
   "outputs": [],
   "source": [
    "output_path = '/dataset/json'\n",
    "output_file = 'skillset_web_framework.json'\n",
    "\n",
    "# Use the current working directory as the base path\n",
    "base_path = os.getcwd()\n",
    "\n",
    "# Specify the relative path within the current working directory\n",
    "output_path = os.path.join(base_path, 'dataset/json')\n",
    "\n",
    "# Create the output directory if it doesn't exist\n",
    "os.makedirs(output_path, exist_ok=True)\n",
    "\n",
    "# Create the output directory if it doesn't exist\n",
    "os.makedirs(output_path, exist_ok=True)\n",
    "\n",
    "# Save the DataFrame to a JSON file with the desired structure\n",
    "skillset_json = {\n",
    "    \"skillset_web_framework\": skillset_web_framework.to_dict(orient='records')\n",
    "}\n",
    "\n",
    "# Save to file\n",
    "with open(os.path.join(output_path, output_file), 'w') as json_file:\n",
    "    json.dump(skillset_json, json_file, indent=2)"
   ]
  },
  {
   "cell_type": "code",
   "execution_count": 20,
   "id": "051a9ce1",
   "metadata": {},
   "outputs": [
    {
     "data": {
      "text/plain": [
       "0                                                      NaN\n",
       "1                 Amazon Web Services (AWS);Netlify;Vercel\n",
       "2        Amazon Web Services (AWS);Google Cloud;OpenSta...\n",
       "3                                        Cloudflare;Heroku\n",
       "4        Amazon Web Services (AWS);Firebase;Heroku;Netl...\n",
       "                               ...                        \n",
       "89179    Digital Ocean;Firebase;Google Cloud;Heroku;Vercel\n",
       "89180                                                  NaN\n",
       "89181                            Amazon Web Services (AWS)\n",
       "89182    Amazon Web Services (AWS);Cloudflare;Google Cl...\n",
       "89183                                              Hetzner\n",
       "Name: PlatformHaveWorkedWith, Length: 89184, dtype: object"
      ]
     },
     "execution_count": 20,
     "metadata": {},
     "output_type": "execute_result"
    }
   ],
   "source": [
    "platform_worked_with = df['PlatformHaveWorkedWith']\n",
    "platform_worked_with"
   ]
  },
  {
   "cell_type": "code",
   "execution_count": 21,
   "id": "5ce5ed66",
   "metadata": {},
   "outputs": [
    {
     "name": "stdout",
     "output_type": "stream",
     "text": [
      "1                 Amazon Web Services (AWS);Netlify;Vercel\n",
      "2        Amazon Web Services (AWS);Google Cloud;OpenSta...\n",
      "3                                        Cloudflare;Heroku\n",
      "4        Amazon Web Services (AWS);Firebase;Heroku;Netl...\n",
      "5        Amazon Web Services (AWS);Cloudflare;Google Cloud\n",
      "                               ...                        \n",
      "89178                            Amazon Web Services (AWS)\n",
      "89179    Digital Ocean;Firebase;Google Cloud;Heroku;Vercel\n",
      "89181                            Amazon Web Services (AWS)\n",
      "89182    Amazon Web Services (AWS);Cloudflare;Google Cl...\n",
      "89183                                              Hetzner\n",
      "Name: PlatformHaveWorkedWith, Length: 63628, dtype: object\n"
     ]
    }
   ],
   "source": [
    "# Drop rows with NaN values in 'PlatformHaveWorkedWith' column\n",
    "cleaned_platform = df['PlatformHaveWorkedWith'].dropna()\n",
    "print(cleaned_platform)"
   ]
  },
  {
   "cell_type": "code",
   "execution_count": 22,
   "id": "6e722609",
   "metadata": {},
   "outputs": [
    {
     "data": {
      "text/plain": [
       "1        Amazon Web Services (AWS)\n",
       "1                          Netlify\n",
       "1                           Vercel\n",
       "2        Amazon Web Services (AWS)\n",
       "2                     Google Cloud\n",
       "                   ...            \n",
       "89182    Amazon Web Services (AWS)\n",
       "89182                   Cloudflare\n",
       "89182                 Google Cloud\n",
       "89182              Microsoft Azure\n",
       "89183                      Hetzner\n",
       "Name: PlatformHaveWorkedWith, Length: 147512, dtype: object"
      ]
     },
     "execution_count": 22,
     "metadata": {},
     "output_type": "execute_result"
    }
   ],
   "source": [
    "# Split the platform into individual skills\n",
    "skills_list_platform = cleaned_platform.str.split(';').explode()\n",
    "skills_list_platform"
   ]
  },
  {
   "cell_type": "code",
   "execution_count": 23,
   "id": "fb503de7",
   "metadata": {},
   "outputs": [
    {
     "name": "stdout",
     "output_type": "stream",
     "text": [
      "                                 name     types\n",
      "0           Amazon Web Services (AWS)  platform\n",
      "1                             Netlify  platform\n",
      "2                              Vercel  platform\n",
      "3                        Google Cloud  platform\n",
      "4                           OpenStack  platform\n",
      "5                              VMware  platform\n",
      "6                               Vultr  platform\n",
      "7                          Cloudflare  platform\n",
      "8                              Heroku  platform\n",
      "9                            Firebase  platform\n",
      "10                      Digital Ocean  platform\n",
      "11                             Fly.io  platform\n",
      "12                    Microsoft Azure  platform\n",
      "13                             Render  platform\n",
      "14                            Hetzner  platform\n",
      "15                          OpenShift  platform\n",
      "16                                OVH  platform\n",
      "17                    Managed Hosting  platform\n",
      "18  Oracle Cloud Infrastructure (OCI)  platform\n",
      "19                 Linode, now Akamai  platform\n",
      "20                         Colocation  platform\n",
      "21                           Scaleway  platform\n",
      "22                IBM Cloud Or Watson  platform\n"
     ]
    }
   ],
   "source": [
    "# Use unique() to get unique values\n",
    "\n",
    "skillset_platform = pd.DataFrame({\n",
    "    'name': skills_list_platform.unique(),\n",
    "    'types': 'platform'\n",
    "})\n",
    "\n",
    "# Display the updated skillset_platform DataFrame with unique values\n",
    "print(skillset_platform)"
   ]
  },
  {
   "cell_type": "code",
   "execution_count": 24,
   "id": "231775d4",
   "metadata": {},
   "outputs": [],
   "source": [
    "output_path = '/dataset/json'\n",
    "output_file = 'skillset_platform.json'\n",
    "\n",
    "# Use the current working directory as the base path\n",
    "base_path = os.getcwd()\n",
    "\n",
    "# Specify the relative path within the current working directory\n",
    "output_path = os.path.join(base_path, 'dataset/json')\n",
    "\n",
    "# Create the output directory if it doesn't exist\n",
    "os.makedirs(output_path, exist_ok=True)\n",
    "\n",
    "# Create the output directory if it doesn't exist\n",
    "os.makedirs(output_path, exist_ok=True)\n",
    "\n",
    "# Save the DataFrame to a JSON file with the desired structure\n",
    "skillset_json = {\n",
    "    \"skillset_platform\": skillset_platform.to_dict(orient='records')\n",
    "}\n",
    "\n",
    "# Save to file\n",
    "with open(os.path.join(output_path, output_file), 'w') as json_file:\n",
    "    json.dump(skillset_json, json_file, indent=2)"
   ]
  },
  {
   "cell_type": "code",
   "execution_count": 25,
   "id": "21c1e94d",
   "metadata": {},
   "outputs": [
    {
     "name": "stdout",
     "output_type": "stream",
     "text": [
      "                                 name     types\n",
      "0                            HTML CSS  language\n",
      "1                          JavaScript  language\n",
      "2                              Python  language\n",
      "3                          Bash Shell  language\n",
      "4                                  Go  language\n",
      "..                                ...       ...\n",
      "18  Oracle Cloud Infrastructure (OCI)  platform\n",
      "19                 Linode, now Akamai  platform\n",
      "20                         Colocation  platform\n",
      "21                           Scaleway  platform\n",
      "22                IBM Cloud Or Watson  platform\n",
      "\n",
      "[140 rows x 2 columns]\n"
     ]
    }
   ],
   "source": [
    "### Create skillset and combine the individual skillset DataFrames into a single DataFrame and then save it to a JSON file\n",
    "\n",
    "# Combine individual skillset DataFrames into a single DataFrame\n",
    "combined_skillset = pd.concat([skillset_language, skillset_database, skillset_web_framework, skillset_platform])\n",
    "\n",
    "# Display the combined skillset DataFrame\n",
    "print(combined_skillset)"
   ]
  },
  {
   "cell_type": "code",
   "execution_count": 26,
   "id": "b7e54225",
   "metadata": {},
   "outputs": [],
   "source": [
    "output_path = '/dataset/json'\n",
    "output_file = 'skillset.json'\n",
    "\n",
    "# Use the current working directory as the base path\n",
    "base_path = os.getcwd()\n",
    "\n",
    "# Specify the relative path within the current working directory\n",
    "output_path = os.path.join(base_path, 'dataset/json')\n",
    "\n",
    "# Create the output directory if it doesn't exist\n",
    "os.makedirs(output_path, exist_ok=True)\n",
    "\n",
    "# Create the output directory if it doesn't exist\n",
    "os.makedirs(output_path, exist_ok=True)\n",
    "\n",
    "# Save the DataFrame to a JSON file with the desired structure\n",
    "skillset_json = {\n",
    "    \"combined_skillset\": combined_skillset.to_dict(orient='records')\n",
    "}\n",
    "\n",
    "# Save to file\n",
    "with open(os.path.join(output_path, output_file), 'w') as json_file:\n",
    "    json.dump(skillset_json, json_file, indent=2)"
   ]
  },
  {
   "cell_type": "markdown",
   "id": "3b5627f2",
   "metadata": {},
   "source": [
    "### 'Age', EdLevel', 'YearsCode', 'YearsCodePro', 'DevType', 'Country', 'LearnCode'"
   ]
  },
  {
   "cell_type": "code",
   "execution_count": 28,
   "id": "2f8744c0",
   "metadata": {},
   "outputs": [
    {
     "data": {
      "text/plain": [
       "array(['18', '27', '12', '6', '21', '4', '5', '20', '14', '10', '15',\n",
       "       '11', '3', '24', '8', '13', 'Less than 1 year', '16', '33', '22',\n",
       "       '30', '32', '7', '35', '28', '40', '17', '29', '19',\n",
       "       'More than 50 years', '9', '38', '26', '34', '25', '2', '45', '23',\n",
       "       '31', '43', '1', '48', '41', '50', '39', '42', '37', '36', '44',\n",
       "       '46', '49', '47'], dtype=object)"
      ]
     },
     "execution_count": 28,
     "metadata": {},
     "output_type": "execute_result"
    }
   ],
   "source": [
    "years_code = df['YearsCode'].dropna().unique()\n",
    "years_code"
   ]
  },
  {
   "cell_type": "code",
   "execution_count": 30,
   "id": "d977796b",
   "metadata": {},
   "outputs": [
    {
     "data": {
      "text/plain": [
       "array(['9', '23', '7', '4', '21', '3', '15', 'Less than 1 year', '10',\n",
       "       '2', '6', '14', '5', '19', '13', '16', '28', '1', '30', '11', '8',\n",
       "       '25', '32', '24', '40', '17', '45', '29', '12', '31', '20', '18',\n",
       "       '50', '27', '43', '22', '26', '38', '33', '44', '35', '34', '37',\n",
       "       '42', '41', 'More than 50 years', '47', '36', '39', '48', '46',\n",
       "       '49'], dtype=object)"
      ]
     },
     "execution_count": 30,
     "metadata": {},
     "output_type": "execute_result"
    }
   ],
   "source": [
    "years_code_pro = df['YearsCodePro'].dropna().unique()\n",
    "years_code_pro"
   ]
  },
  {
   "cell_type": "code",
   "execution_count": 31,
   "id": "0a17ec60",
   "metadata": {},
   "outputs": [
    {
     "data": {
      "text/plain": [
       "array(['Bachelor’s degree (B.A., B.S., B.Eng., etc.)',\n",
       "       'Some college/university study without earning a degree',\n",
       "       'Master’s degree (M.A., M.S., M.Eng., MBA, etc.)',\n",
       "       'Primary/elementary school',\n",
       "       'Professional degree (JD, MD, Ph.D, Ed.D, etc.)',\n",
       "       'Associate degree (A.A., A.S., etc.)',\n",
       "       'Secondary school (e.g. American high school, German Realschule or Gymnasium, etc.)',\n",
       "       'Something else'], dtype=object)"
      ]
     },
     "execution_count": 31,
     "metadata": {},
     "output_type": "execute_result"
    }
   ],
   "source": [
    "edl = df['EdLevel'].dropna().unique()\n",
    "edl "
   ]
  },
  {
   "cell_type": "code",
   "execution_count": 42,
   "id": "01c26402",
   "metadata": {
    "scrolled": false
   },
   "outputs": [
    {
     "data": {
      "text/plain": [
       "'Books / Physical media;Colleague;Friend or family member;Hackathons (virtual or in-person);Online Courses or Certification;On the job training;Other online resources (e.g., videos, blogs, forum);School (i.e., University, College, etc)'"
      ]
     },
     "execution_count": 42,
     "metadata": {},
     "output_type": "execute_result"
    }
   ],
   "source": [
    "learn_code = df['LearnCode'].dropna().unique()\n",
    "learn_code[0]"
   ]
  },
  {
   "cell_type": "code",
   "execution_count": 50,
   "id": "eb0d04ed",
   "metadata": {},
   "outputs": [
    {
     "data": {
      "text/plain": [
       "790"
      ]
     },
     "execution_count": 50,
     "metadata": {},
     "output_type": "execute_result"
    }
   ],
   "source": [
    "len(learn_code)"
   ]
  },
  {
   "cell_type": "code",
   "execution_count": 51,
   "id": "b1a9edb5",
   "metadata": {},
   "outputs": [
    {
     "data": {
      "text/plain": [
       "0              School (i.e., University, College, etc)\n",
       "1                              Friend or family member\n",
       "2                      Online Courses or Certification\n",
       "3                               Books / Physical media\n",
       "4                                      Coding Bootcamp\n",
       "5                              Other (please specify):\n",
       "6                                            Colleague\n",
       "7                    Hackathons (virtual or in-person)\n",
       "8    Other online resources (e.g., videos, blogs, f...\n",
       "9                                  On the job training\n",
       "dtype: object"
      ]
     },
     "execution_count": 51,
     "metadata": {},
     "output_type": "execute_result"
    }
   ],
   "source": [
    "import re\n",
    "\n",
    "# Extract unique learning methods using regular expressions\n",
    "unique_learning_methods = set()\n",
    "pattern = re.compile(r'[^;]+')\n",
    "for methods in learn_code:\n",
    "    matches = pattern.findall(methods)\n",
    "    unique_learning_methods.update(matches)\n",
    "\n",
    "# Convert the set to an array\n",
    "unique_learning_methods_array = pd.Series(list(unique_learning_methods))\n",
    "\n",
    "# Display the unique learning methods\n",
    "unique_learning_methods_array"
   ]
  },
  {
   "cell_type": "code",
   "execution_count": 52,
   "id": "c9bbe348",
   "metadata": {},
   "outputs": [
    {
     "data": {
      "text/plain": [
       "array(['United States of America', 'Philippines',\n",
       "       'United Kingdom of Great Britain and Northern Ireland', 'Finland',\n",
       "       'India', 'Australia', 'Netherlands', 'Germany', 'Sweden', 'France',\n",
       "       'Albania', 'Nigeria', 'Spain', 'South Africa', 'Belgium', 'Italy',\n",
       "       'Brazil', 'Portugal', 'Bangladesh', 'Canada', 'Argentina',\n",
       "       'Switzerland', 'Sri Lanka', 'Poland', 'Lebanon', 'Lithuania',\n",
       "       'Serbia', 'Cyprus', 'China', 'Bahrain',\n",
       "       'Iran, Islamic Republic of...', 'Pakistan', 'Egypt',\n",
       "       'Russian Federation', 'Turkey', 'Slovakia', 'Latvia', 'Greece',\n",
       "       'Austria', 'Denmark', 'Israel', 'Norway', 'Hungary', 'Singapore',\n",
       "       'United Arab Emirates', 'Croatia', 'Czech Republic', 'Kosovo',\n",
       "       'Nepal', 'Slovenia', 'Romania', 'Luxembourg', 'Indonesia',\n",
       "       'Tunisia', 'Republic of Korea', 'Viet Nam', 'Ukraine', 'Kenya',\n",
       "       'Nomadic', 'Dominican Republic', 'Morocco', 'Uzbekistan',\n",
       "       'Belarus', 'Isle of Man', 'Estonia', 'Bulgaria',\n",
       "       'The former Yugoslav Republic of Macedonia', 'Georgia', 'Ireland',\n",
       "       'Benin', 'Qatar', 'Japan', 'Venezuela, Bolivarian Republic of...',\n",
       "       'Tajikistan', 'Malta', 'Colombia', 'Bhutan', 'Taiwan', 'Armenia',\n",
       "       'Oman', 'El Salvador', 'Cuba', 'Cambodia', 'Montenegro',\n",
       "       'Malaysia', 'Bosnia and Herzegovina', 'Zimbabwe', 'South Korea',\n",
       "       'Saudi Arabia', 'Thailand', 'Hong Kong (S.A.R.)', 'Peru',\n",
       "       'Azerbaijan', 'Afghanistan', 'Djibouti', 'Ethiopia', 'Paraguay',\n",
       "       'New Zealand', 'Panama', 'Zambia', 'Nicaragua', 'Mauritius',\n",
       "       'Uruguay', 'Congo, Republic of the...', 'Kyrgyzstan', 'Ghana',\n",
       "       'Andorra', 'Kazakhstan', 'Jordan', 'Iceland',\n",
       "       'Saint Vincent and the Grenadines', 'Trinidad and Tobago',\n",
       "       'Ecuador', 'Uganda', 'Mexico', 'Republic of Moldova', 'Guatemala',\n",
       "       'Mongolia', 'Chile', 'United Republic of Tanzania', 'Myanmar',\n",
       "       'Algeria', 'Bolivia', 'Belize', 'Swaziland',\n",
       "       'Syrian Arab Republic', 'Somalia', 'Jamaica', \"Côte d'Ivoire\",\n",
       "       'Costa Rica', 'Honduras', 'Yemen', 'Iraq', 'Palestine', 'Senegal',\n",
       "       \"Lao People's Democratic Republic\", 'Rwanda', 'Malawi',\n",
       "       'Sierra Leone', 'Guinea', 'Fiji', 'North Korea', 'Maldives',\n",
       "       'Barbados', 'Kuwait', 'Brunei Darussalam', 'Palau', 'Angola',\n",
       "       'Turkmenistan', 'Libyan Arab Jamahiriya', 'Madagascar', 'Lesotho',\n",
       "       'Cameroon', 'Mozambique', 'Gabon', 'Niger',\n",
       "       'Democratic Republic of the Congo', 'Mali', 'Burkina Faso',\n",
       "       'Guinea-Bissau', 'Botswana', 'Liberia', 'Mauritania',\n",
       "       'Timor-Leste', 'Antigua and Barbuda', 'Grenada', 'Togo',\n",
       "       \"Democratic People's Republic of Korea\", 'Dominica', 'Guyana',\n",
       "       'Namibia', 'Haiti', 'Sudan', 'Saint Lucia', 'Monaco', 'Bahamas',\n",
       "       'Liechtenstein', 'Burundi', 'Saint Kitts and Nevis',\n",
       "       'Marshall Islands', 'Samoa', 'Suriname',\n",
       "       'Central African Republic', 'Cape Verde', 'San Marino'],\n",
       "      dtype=object)"
      ]
     },
     "execution_count": 52,
     "metadata": {},
     "output_type": "execute_result"
    }
   ],
   "source": [
    "country = df['Country'].dropna().unique()\n",
    "country"
   ]
  },
  {
   "cell_type": "code",
   "execution_count": 53,
   "id": "89b75968",
   "metadata": {},
   "outputs": [
    {
     "data": {
      "text/plain": [
       "array(['Senior Executive (C-Suite, VP, etc.)', 'Developer, back-end',\n",
       "       'Developer, front-end', 'Developer, full-stack',\n",
       "       'System administrator',\n",
       "       'Developer, desktop or enterprise applications',\n",
       "       'Developer, QA or test', 'Designer',\n",
       "       'Data scientist or machine learning specialist',\n",
       "       'Data or business analyst', 'Security professional', 'Educator',\n",
       "       'Research & Development role', 'Other (please specify):',\n",
       "       'Developer, mobile', 'Database administrator',\n",
       "       'Developer, embedded applications or devices', 'Student',\n",
       "       'Engineer, data', 'Hardware Engineer', 'Product manager',\n",
       "       'Academic researcher', 'Developer, game or graphics',\n",
       "       'Cloud infrastructure engineer', 'Engineering manager',\n",
       "       'Developer Experience', 'Project manager', 'DevOps specialist',\n",
       "       'Engineer, site reliability', 'Blockchain', 'Developer Advocate',\n",
       "       'Scientist', 'Marketing or sales professional'], dtype=object)"
      ]
     },
     "execution_count": 53,
     "metadata": {},
     "output_type": "execute_result"
    }
   ],
   "source": [
    "dev_type = df['DevType'].dropna().unique()\n",
    "dev_type"
   ]
  },
  {
   "cell_type": "code",
   "execution_count": null,
   "id": "50f34acd",
   "metadata": {},
   "outputs": [],
   "source": []
  }
 ],
 "metadata": {
  "kernelspec": {
   "display_name": "Python 3 (ipykernel)",
   "language": "python",
   "name": "python3"
  },
  "language_info": {
   "codemirror_mode": {
    "name": "ipython",
    "version": 3
   },
   "file_extension": ".py",
   "mimetype": "text/x-python",
   "name": "python",
   "nbconvert_exporter": "python",
   "pygments_lexer": "ipython3",
   "version": "3.9.18"
  }
 },
 "nbformat": 4,
 "nbformat_minor": 5
}
