{
 "cells": [
  {
   "cell_type": "code",
   "execution_count": 3,
   "id": "5024f0f5",
   "metadata": {},
   "outputs": [
    {
     "name": "stdout",
     "output_type": "stream",
     "text": [
      "\n",
      "Recommended Skills:\n",
      "{'shells);html/css;javascript;python', 'mobile', 'typescript', 'database;sqlite', 'oracle;postgresql;sqlite', 'c++;elixir;go;java;kotlin;matlab;python', 'angular;angularjs', 'developer,', 'firebase', 'django;fastapi;laravel;vue.js', 'c++;javascript;lua;php;python;ruby;typescript', '(all', 'realtime', 'bash/shell', 'django;vue.js', 'full-stack'}\n"
     ]
    }
   ],
   "source": [
    "import pandas as pd\n",
    "from sklearn.feature_extraction.text import TfidfVectorizer\n",
    "from sklearn.metrics.pairwise import linear_kernel\n",
    "\n",
    "# Read the dataset\n",
    "df = pd.read_csv(\"dataset/csv/survey_results_public.csv\")\n",
    "\n",
    "# Columns of interest\n",
    "columns_of_interest = [\n",
    "    'LanguageWantToWorkWith',\n",
    "    'DatabaseWantToWorkWith',\n",
    "    'PlatformWantToWorkWith',\n",
    "    'WebframeWantToWorkWith',\n",
    "    'DevType',\n",
    "]\n",
    "\n",
    "# Select columns of interest\n",
    "df_selected = df[columns_of_interest]\n",
    "\n",
    "# Reduce the Dataset Size\n",
    "df_selected = df_selected.head(2000)\n",
    "\n",
    "# Aggregate skills\n",
    "df_selected['AggregatedSkills'] = df_selected.apply(lambda row: ' '.join(str(x) for x in row if pd.notna(x)), axis=1)\n",
    "df_selected['AggregatedSkills'] = df_selected['AggregatedSkills'].fillna('')\n",
    "\n",
    "# Create a DataFrame for the user\n",
    "user_skills = {\n",
    "    'LanguageHaveWorkedWith': 'Python',\n",
    "    'DatabaseHaveWorkedWith': 'PostgreSQL',\n",
    "    'PlatformHaveWorkedWith': 'AWS',\n",
    "    'WebframeHaveWorkedWith': 'Django',\n",
    "    'DevType': 'Developer, full-stack',\n",
    "}\n",
    "\n",
    "user_df = pd.DataFrame(user_skills, index=[0])\n",
    "user_combined_df = pd.concat([df_selected, user_df]).reset_index(drop=True)\n",
    "user_combined_df['AggregatedSkills'] = user_combined_df['AggregatedSkills'].fillna('')\n",
    "\n",
    "# Print memory usage\n",
    "# print(user_combined_df.memory_usage(deep=True))\n",
    "\n",
    "# Create a TfidfVectorizer\n",
    "tfidf_vectorizer = TfidfVectorizer(stop_words='english')\n",
    "\n",
    "# Fit and transform the skills column\n",
    "tfidf_matrix = tfidf_vectorizer.fit_transform(user_combined_df['AggregatedSkills'])\n",
    "\n",
    "# Calculate the cosine similarity between skills\n",
    "cosine_sim = linear_kernel(tfidf_matrix, tfidf_matrix)\n",
    "\n",
    "# Get the index of the user in the DataFrame\n",
    "user_index = user_combined_df.shape[0] - 1\n",
    "\n",
    "# Get the similarity scores for the user\n",
    "user_similarity_scores = cosine_sim[user_index]\n",
    "\n",
    "# Get the indices of the top N similar users\n",
    "top_similar_users = user_similarity_scores.argsort()[:-6:-1]\n",
    "\n",
    "# Display the top similar users\n",
    "# print(\"Top 5 Similar Users:\")\n",
    "# print(user_combined_df.loc[top_similar_users, 'DevType'])\n",
    "\n",
    "# Get the recommended skills based on the most similar users\n",
    "recommended_skills = set()\n",
    "for index in top_similar_users:\n",
    "    skills = user_combined_df.loc[index, 'AggregatedSkills'].lower().split()\n",
    "    recommended_skills.update(skills)\n",
    "\n",
    "# Remove the skills the user already has\n",
    "user_skills_set = set(user_combined_df.loc[user_index, 'AggregatedSkills'].lower().split())\n",
    "recommended_skills -= user_skills_set\n",
    "\n",
    "print(\"\\nRecommended Skills:\")\n",
    "print(recommended_skills)"
   ]
  },
  {
   "cell_type": "code",
   "execution_count": null,
   "id": "b7123bc0",
   "metadata": {},
   "outputs": [],
   "source": []
  }
 ],
 "metadata": {
  "kernelspec": {
   "display_name": "Python 3 (ipykernel)",
   "language": "python",
   "name": "python3"
  },
  "language_info": {
   "codemirror_mode": {
    "name": "ipython",
    "version": 3
   },
   "file_extension": ".py",
   "mimetype": "text/x-python",
   "name": "python",
   "nbconvert_exporter": "python",
   "pygments_lexer": "ipython3",
   "version": "3.9.18"
  }
 },
 "nbformat": 4,
 "nbformat_minor": 5
}
